{
 "cells": [
  {
   "cell_type": "markdown",
   "metadata": {},
   "source": [
    "# Overview \n",
    "\n",
    "The materials are divided to 3 sections. Section 1 mainly is about introducing jupyter notebooks, a little about python, and some tools that will be used in later sections for evolutionary computing. Section 2 illustrates a basic application of evolutionary strategy to the problem of deriving model output statistics. Section 3 outlines several more advanced applications of evolutionary strategies to the somewhat artificial problem, and introduce a candidate serious application.\n",
    "\n",
    "For each section, standalone python codes are available. Some are actually invoked by the notebooks."
   ]
  },
  {
   "cell_type": "markdown",
   "metadata": {},
   "source": [
    "## Test data notes:\n",
    "\n",
    "testin.a1155.csv is KCGZ in AZ (note the extraordinary low Td). GFS (at that time, which is years ago) performs relatively well there, with bias of 2.15 C and rmse about 3.7 C. There is little relation between GFS T2m and the error, making it most suitable for the first section, and will be used for later sections by default as well.\n",
    "\n",
    "testin.a2621.csv is a more typical case, where GFS T2m and the error are related. It is atypical in that it is one of the worst-performing stations in the data set (KVNC, Venice, FL) bias, rmse, sqrt(error variance) = 12.56, 15.16, 8.50, respectively."
   ]
  },
  {
   "cell_type": "code",
   "execution_count": null,
   "metadata": {},
   "outputs": [],
   "source": []
  }
 ],
 "metadata": {
  "kernelspec": {
   "display_name": "Python 3",
   "language": "python",
   "name": "python3"
  },
  "language_info": {
   "codemirror_mode": {
    "name": "ipython",
    "version": 3
   },
   "file_extension": ".py",
   "mimetype": "text/x-python",
   "name": "python",
   "nbconvert_exporter": "python",
   "pygments_lexer": "ipython3",
   "version": "3.7.1"
  }
 },
 "nbformat": 4,
 "nbformat_minor": 4
}
